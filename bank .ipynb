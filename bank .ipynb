{
 "cells": [
  {
   "cell_type": "code",
   "execution_count": 22,
   "id": "e0e4ea24",
   "metadata": {},
   "outputs": [
    {
     "name": "stdout",
     "output_type": "stream",
     "text": [
      "enter the username\tSiya Aggarwal\n",
      "Enter the password\tsiya 1430\n",
      "U have succesfully logged in\n",
      "Enter 1 to check your balance\n",
      "Enter 2 to apply for loan\n",
      "Enter 3 to withdraw money\n",
      "Enter 4 to deposit money\n",
      "Enter 10 to log out\n",
      "enter 5 to change the username and password\t\n",
      "Enter your choice\t1\n",
      "your balance is\t 50000\n",
      "Enter your choice\t10\n"
     ]
    }
   ],
   "source": [
    "s=\"Siya Aggarwal\"\n",
    "x= \"siya 1430\"\n",
    "c=0\n",
    "b=50000\n",
    "while True:\n",
    "    st=input(\"enter the username\\t\")\n",
    "    sx=input(\"Enter the password\\t\")\n",
    "    if(st==s and sx==x):\n",
    "        print(\"U have succesfully logged in\")\n",
    "        break\n",
    "    if(c==2):\n",
    "        print(\"Imposter\")\n",
    "        break\n",
    "    else:\n",
    "        print(\"Try again\")\n",
    "        c=c+1\n",
    "print(\"Enter 1 to check your balance\")\n",
    "print(\"Enter 2 to apply for loan\")\n",
    "print(\"Enter 3 to withdraw money\")\n",
    "print(\"Enter 4 to deposit money\")\n",
    "print(\"Enter 10 to log out\")\n",
    "print(\"enter 5 to change the username and password\\t\")\n",
    "while(x!=10):\n",
    "    x=(int)(input(\"Enter your choice\\t\"))\n",
    "    if(x==1):\n",
    "        print(\"your balance is\\t\", end=\" \")\n",
    "        print(b)\n",
    "    elif(x==2):\n",
    "        print(\"Contact 9749482403\")\n",
    "    elif(x==3):\n",
    "        w=(int)(input(\"Enter the amount to withdraw\\t\"))\n",
    "        if(w<=b):\n",
    "            b=b-w\n",
    "            print(\"Amount has been withdrawed\\t\")\n",
    "        else:\n",
    "            print(\"Not enough balance\")\n",
    "    elif(x==4):\n",
    "        d=(int)(input(\"Enter the amount to deposit\\t\"))\n",
    "        b=b+d\n",
    "        print(\"Amount has been deposited\")\n",
    "    elif(x==5):\n",
    "        str=input(\"Enter new username\\t\")\n",
    "        pas=input(\"enter new password\\t\")\n",
    "        s=str\n",
    "        x=pas\n",
    "\n",
    "    \n",
    "        \n",
    "    "
   ]
  },
  {
   "cell_type": "markdown",
   "id": "15c0a0e9",
   "metadata": {},
   "source": []
  },
  {
   "cell_type": "code",
   "execution_count": null,
   "id": "f4fc464e",
   "metadata": {},
   "outputs": [],
   "source": []
  },
  {
   "cell_type": "code",
   "execution_count": null,
   "id": "01473c16",
   "metadata": {},
   "outputs": [],
   "source": []
  },
  {
   "cell_type": "code",
   "execution_count": null,
   "id": "3782d248",
   "metadata": {},
   "outputs": [],
   "source": []
  }
 ],
 "metadata": {
  "kernelspec": {
   "display_name": "Python 3 (ipykernel)",
   "language": "python",
   "name": "python3"
  },
  "language_info": {
   "codemirror_mode": {
    "name": "ipython",
    "version": 3
   },
   "file_extension": ".py",
   "mimetype": "text/x-python",
   "name": "python",
   "nbconvert_exporter": "python",
   "pygments_lexer": "ipython3",
   "version": "3.11.5"
  }
 },
 "nbformat": 4,
 "nbformat_minor": 5
}
